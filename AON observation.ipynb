{
 "cells": [
  {
   "cell_type": "code",
   "execution_count": null,
   "id": "bde3119f",
   "metadata": {},
   "outputs": [
    {
     "name": "stdout",
     "output_type": "stream",
     "text": [
      "0\n",
      "0\n"
     ]
    },
    {
     "ename": "",
     "evalue": "",
     "output_type": "error",
     "traceback": [
      "\u001b[1;31mThe Kernel crashed while executing code in the current cell or a previous cell. \n",
      "\u001b[1;31mPlease review the code in the cell(s) to identify a possible cause of the failure. \n",
      "\u001b[1;31mClick <a href='https://aka.ms/vscodeJupyterKernelCrash'>here</a> for more info. \n",
      "\u001b[1;31mView Jupyter <a href='command:jupyter.viewOutput'>log</a> for further details."
     ]
    }
   ],
   "source": [
    "from math import gcd\n",
    "\n",
    "# take input\n",
    "n = int(input().strip())\n",
    "if n == 0:\n",
    "    print(0)\n",
    "    exit()\n",
    "\n",
    "arr = list(map(int, input().strip().split()))\n",
    "\n",
    "count = 0\n",
    "\n",
    "# check all pairs (i < j)\n",
    "for i in range(n):\n",
    "    for j in range(i + 1, n):\n",
    "        if gcd(arr[i], arr[j]) == 1:\n",
    "            count += 1\n",
    "\n",
    "print(count)\n"
   ]
  },
  {
   "cell_type": "code",
   "execution_count": 1,
   "id": "80bfd2a3",
   "metadata": {},
   "outputs": [
    {
     "ename": "ValueError",
     "evalue": "invalid literal for int() with base 10: ''",
     "output_type": "error",
     "traceback": [
      "\u001b[31m---------------------------------------------------------------------------\u001b[39m",
      "\u001b[31mValueError\u001b[39m                                Traceback (most recent call last)",
      "\u001b[36mCell\u001b[39m\u001b[36m \u001b[39m\u001b[32mIn[1]\u001b[39m\u001b[32m, line 2\u001b[39m\n\u001b[32m      1\u001b[39m \u001b[38;5;66;03m# Read input\u001b[39;00m\n\u001b[32m----> \u001b[39m\u001b[32m2\u001b[39m n = \u001b[38;5;28;43mint\u001b[39;49m\u001b[43m(\u001b[49m\u001b[38;5;28;43minput\u001b[39;49m\u001b[43m(\u001b[49m\u001b[43m)\u001b[49m\u001b[43m.\u001b[49m\u001b[43mstrip\u001b[49m\u001b[43m(\u001b[49m\u001b[43m)\u001b[49m\u001b[43m)\u001b[49m\n\u001b[32m      4\u001b[39m \u001b[38;5;66;03m# Case when string is empty\u001b[39;00m\n\u001b[32m      5\u001b[39m \u001b[38;5;28;01mif\u001b[39;00m n == \u001b[32m0\u001b[39m:\n",
      "\u001b[31mValueError\u001b[39m: invalid literal for int() with base 10: ''"
     ]
    }
   ],
   "source": [
    "# Read input\n",
    "n = int(input().strip())\n",
    "\n",
    "# Case when string is empty\n",
    "if n == 0:\n",
    "    print(\"NULL\")\n",
    "    exit()\n",
    "\n",
    "s = input().strip()\n",
    "k = int(input().strip())\n",
    "\n",
    "# Case when k = 0\n",
    "if k == 0:\n",
    "    print(s)\n",
    "    exit()\n",
    "\n",
    "# Split into words\n",
    "words = s.split()\n",
    "\n",
    "# Perform left rotation by k steps\n",
    "k = k % len(words)\n",
    "rotated = words[k:] + words[:k]\n",
    "\n",
    "# Print the rotated string\n",
    "print(\" \".join(rotated))\n"
   ]
  },
  {
   "cell_type": "code",
   "execution_count": null,
   "id": "689258ae",
   "metadata": {},
   "outputs": [],
   "source": []
  }
 ],
 "metadata": {
  "kernelspec": {
   "display_name": "Python 3",
   "language": "python",
   "name": "python3"
  },
  "language_info": {
   "codemirror_mode": {
    "name": "ipython",
    "version": 3
   },
   "file_extension": ".py",
   "mimetype": "text/x-python",
   "name": "python",
   "nbconvert_exporter": "python",
   "pygments_lexer": "ipython3",
   "version": "3.12.6"
  }
 },
 "nbformat": 4,
 "nbformat_minor": 5
}
