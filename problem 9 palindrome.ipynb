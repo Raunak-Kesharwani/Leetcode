{
 "cells": [
  {
   "cell_type": "markdown",
   "id": "eb2dfcd2",
   "metadata": {},
   "source": [
    "# Palindrome number \n",
    "\n",
    "Given an integer x, return true if x is a palindrome, and false otherwise.\n",
    "\n",
    " \n",
    "\n",
    "Example 1:\n",
    "\n",
    "Input: x = 121\n",
    "Output: true\n",
    "Explanation: 121 reads as 121 from left to right and from right to left.\n",
    "Example 2:\n",
    "\n",
    "Input: x = -121\n",
    "Output: false\n",
    "Explanation: From left to right, it reads -121. From right to left, it becomes 121-. Therefore it is not a palindrome.\n",
    "Example 3:\n",
    "\n",
    "Input: x = 10\n",
    "Output: false\n",
    "Explanation: Reads 01 from right to left. Therefore it is not a palindrome.\n",
    " \n",
    "\n",
    "Constraints:\n",
    "\n",
    "-231 <= x <= 231 - 1\n",
    " \n",
    "\n",
    "Follow up: Could you solve it without converting the integer to a string?\n",
    " \n"
   ]
  },
  {
   "cell_type": "code",
   "execution_count": null,
   "id": "3b1266aa",
   "metadata": {},
   "outputs": [
    {
     "name": "stdout",
     "output_type": "stream",
     "text": [
      "True\n"
     ]
    }
   ],
   "source": [
    "def isPalindrome( x: int) -> bool:\n",
    "    new = 0 \n",
    "    num = x\n",
    "    if x in [0,1,2,3,4,5,6,7,8,9]:\n",
    "        return True\n",
    "    while num > 0  :\n",
    "        mod =  num % 10 \n",
    "        new += mod \n",
    "        if new == x :\n",
    "            return True \n",
    "        num = num // 10 \n",
    "        new = new * 10 \n",
    "    \n",
    "    return False\n",
    "\n",
    "print(isPalindrome(121))"
   ]
  },
  {
   "cell_type": "code",
   "execution_count": 2,
   "id": "5a5b6918",
   "metadata": {},
   "outputs": [],
   "source": [
    "def isPalindrome(x: int) -> bool:\n",
    "    if x < 0:  # negative numbers can't be palindromes\n",
    "        return False\n",
    "    if 0 <= x < 10:  # single digit numbers are palindromes\n",
    "        return True\n",
    "\n",
    "    original, reversed_num = x, 0\n",
    "    while x > 0:\n",
    "        reversed_num = reversed_num * 10 + (x % 10)\n",
    "        x //= 10\n",
    "    \n",
    "    return original == reversed_num\n"
   ]
  },
  {
   "cell_type": "code",
   "execution_count": 3,
   "id": "a56854f4",
   "metadata": {},
   "outputs": [],
   "source": [
    "def isPalindrome(x: int) -> bool:\n",
    "    if x < 0 or (x % 10 == 0 and x != 0):\n",
    "        return False\n",
    "    \n",
    "    reversed_half = 0\n",
    "    while x > reversed_half:\n",
    "        reversed_half = reversed_half * 10 + x % 10\n",
    "        x //= 10\n",
    "    \n",
    "    return x == reversed_half or x == reversed_half // 10\n"
   ]
  },
  {
   "cell_type": "code",
   "execution_count": null,
   "id": "2b7bd84e",
   "metadata": {},
   "outputs": [],
   "source": []
  }
 ],
 "metadata": {
  "kernelspec": {
   "display_name": "Python (myenv)",
   "language": "python",
   "name": "myenv"
  },
  "language_info": {
   "codemirror_mode": {
    "name": "ipython",
    "version": 3
   },
   "file_extension": ".py",
   "mimetype": "text/x-python",
   "name": "python",
   "nbconvert_exporter": "python",
   "pygments_lexer": "ipython3",
   "version": "3.12.6"
  }
 },
 "nbformat": 4,
 "nbformat_minor": 5
}
