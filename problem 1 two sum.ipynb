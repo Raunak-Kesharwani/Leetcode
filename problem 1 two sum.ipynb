{
 "cells": [
  {
   "cell_type": "markdown",
   "id": "a7a56e3f",
   "metadata": {},
   "source": [
    "# Two sum \n",
    "Given an array of integers nums and an integer target, return indices of the two numbers such that they add up to target.\n",
    "\n",
    "You may assume that each input would have exactly one solution, and you may not use the same element twice.\n",
    "\n",
    "You can return the answer in any order.\n",
    "\n",
    " \n",
    "\n",
    "Example 1:\n",
    "\n",
    "Input: nums = [2,7,11,15], target = 9\n",
    "Output: [0,1]\n",
    "Explanation: Because nums[0] + nums[1] == 9, we return [0, 1].\n",
    "Example 2:\n",
    "\n",
    "Input: nums = [3,2,4], target = 6\n",
    "Output: [1,2]\n",
    "Example 3:\n",
    "\n",
    "Input: nums = [3,3], target = 6\n",
    "Output: [0,1]\n",
    " \n",
    "\n",
    "Constraints:\n",
    "\n",
    "2 <= nums.length <= 104\n",
    "-109 <= nums[i] <= 109\n",
    "-109 <= target <= 109\n",
    "Only one valid answer exists.\n",
    " \n",
    "\n",
    "Follow-up: Can you come up with an algorithm that is less than O(n^2) time complexity?"
   ]
  },
  {
   "cell_type": "code",
   "execution_count": null,
   "id": "c84a5eb4",
   "metadata": {},
   "outputs": [],
   "source": [
    "from typing import List"
   ]
  },
  {
   "cell_type": "code",
   "execution_count": null,
   "id": "31386098",
   "metadata": {},
   "outputs": [],
   "source": [
    "# Brute force approach \n",
    "def twoSum(self, nums: List[int], target: int) -> List[int]:\n",
    "    for i in range(len(nums)-1) :\n",
    "        for j in range(i+1 , len(nums)):\n",
    "            if ((nums[i]+nums[j]) == target ):\n",
    "                return [i,j]\n",
    "  \n",
    "    return []"
   ]
  },
  {
   "cell_type": "code",
   "execution_count": null,
   "id": "7aa92729",
   "metadata": {},
   "outputs": [],
   "source": [
    "# less complexity than O(n^2) equivalent to O(n)\n",
    "def twoSum(self, nums: List[int], target: int) -> List[int]:\n",
    "    for i in range(len(nums)):\n",
    "        other = target - nums[i]\n",
    "        if other in nums and nums.index(other) != i :\n",
    "            return [i , nums.index(other)]\n",
    "    return []"
   ]
  },
  {
   "cell_type": "code",
   "execution_count": null,
   "id": "a3113457",
   "metadata": {},
   "outputs": [],
   "source": [
    "# complexity O(logn)\n",
    "def twoSum(self, nums: List[int], target: int) -> List[int]:\n",
    "    seen = {}\n",
    "    for i , num in enumerate(nums):\n",
    "        other = target - num \n",
    "        if other in seen :\n",
    "            return [seen[other], i]\n",
    "        seen[num] = i \n",
    "    return []"
   ]
  }
 ],
 "metadata": {
  "kernelspec": {
   "display_name": "Python 3",
   "language": "python",
   "name": "python3"
  },
  "language_info": {
   "name": "python",
   "version": "3.12.6"
  }
 },
 "nbformat": 4,
 "nbformat_minor": 5
}
