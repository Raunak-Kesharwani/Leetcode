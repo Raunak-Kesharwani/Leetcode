{
 "cells": [
  {
   "cell_type": "markdown",
   "id": "88b932ef",
   "metadata": {},
   "source": [
    "# 2001. Number of Pairs of Interchangeable Rectangles\n",
    "\n",
    "You are given n rectangles represented by a 0-indexed 2D integer array rectangles, where rectangles[i] = [widthi, heighti] denotes the width and height of the ith rectangle.\n",
    "\n",
    "Two rectangles i and j (i < j) are considered interchangeable if they have the same width-to-height ratio. More formally, two rectangles are interchangeable if widthi/heighti == widthj/heightj (using decimal division, not integer division).\n",
    "\n",
    "Return the number of pairs of interchangeable rectangles in rectangles.\n",
    "\n",
    " \n",
    "\n",
    "Example 1:\n",
    "\n",
    "Input: rectangles = [[4,8],[3,6],[10,20],[15,30]]\n",
    "Output: 6\n",
    "Explanation: The following are the interchangeable pairs of rectangles by index (0-indexed):\n",
    "- Rectangle 0 with rectangle 1: 4/8 == 3/6.\n",
    "- Rectangle 0 with rectangle 2: 4/8 == 10/20.\n",
    "- Rectangle 0 with rectangle 3: 4/8 == 15/30.\n",
    "- Rectangle 1 with rectangle 2: 3/6 == 10/20.\n",
    "- Rectangle 1 with rectangle 3: 3/6 == 15/30.\n",
    "- Rectangle 2 with rectangle 3: 10/20 == 15/30.\n",
    "Example 2:\n",
    "\n",
    "Input: rectangles = [[4,5],[7,8]]\n",
    "Output: 0\n",
    "Explanation: There are no interchangeable pairs of rectangles."
   ]
  },
  {
   "cell_type": "code",
   "execution_count": null,
   "id": "615f38dd",
   "metadata": {},
   "outputs": [],
   "source": [
    "# time limit exceed \n",
    "from typing import List\n",
    "class Solution:\n",
    "    def interchangeableRectangles(self, rectangles: List[List[int]]) -> int:\n",
    "        in_ch = 0 \n",
    "        for i, rec in enumerate(rectangles):\n",
    "            for  r in rectangles[i+1::] :\n",
    "                if rec[0]/rec[1] == r[0]/r[1] :\n",
    "                    in_ch += 1\n",
    "        return in_ch"
   ]
  },
  {
   "cell_type": "code",
   "execution_count": 3,
   "id": "b8cd6b9f",
   "metadata": {},
   "outputs": [],
   "source": [
    "class Solution:\n",
    "    def interchangeableRectangles(self, rectangles: List[List[int]]) -> int:\n",
    "\n",
    "        in_ch = 0\n",
    "        ratios ={}\n",
    "        for ratio in rectangles:\n",
    "            r = ratio[0]/ratio[1]\n",
    "            # ratios[r] = ratios[r] + 1 if r in ratios else 1\n",
    "            if r in ratios :\n",
    "                ratios[r] += 1\n",
    "            else :\n",
    "                ratios[r] = 1\n",
    "        num =0\n",
    "        for s in ratios :\n",
    "            if ratios[s] >1 :\n",
    "                #num = sum(range(ratios[s]))\n",
    "                for i in range(1, ratios[s]):\n",
    "                    num += 1*i\n",
    "                in_ch += num\n",
    "                num = 0\n",
    "\n",
    "\n",
    "        return in_ch"
   ]
  },
  {
   "cell_type": "code",
   "execution_count": null,
   "id": "84d9eb38",
   "metadata": {},
   "outputs": [],
   "source": []
  }
 ],
 "metadata": {
  "kernelspec": {
   "display_name": "Python 3",
   "language": "python",
   "name": "python3"
  },
  "language_info": {
   "codemirror_mode": {
    "name": "ipython",
    "version": 3
   },
   "file_extension": ".py",
   "mimetype": "text/x-python",
   "name": "python",
   "nbconvert_exporter": "python",
   "pygments_lexer": "ipython3",
   "version": "3.12.6"
  }
 },
 "nbformat": 4,
 "nbformat_minor": 5
}
