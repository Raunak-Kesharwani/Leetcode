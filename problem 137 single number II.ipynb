{
 "cells": [
  {
   "cell_type": "markdown",
   "id": "1eb45fba",
   "metadata": {},
   "source": [
    "# 137. Single Number II\n",
    "\n",
    "Given an integer array nums where every element appears three times except for one, which appears exactly once. Find the single element and return it.\n",
    "\n",
    "You must implement a solution with a linear runtime complexity and use only constant extra space.\n",
    "\n",
    " \n",
    "\n",
    "Example 1:\n",
    "\n",
    "Input: nums = [2,2,3,2]\n",
    "Output: 3\n",
    "Example 2:\n",
    "\n",
    "Input: nums = [0,1,0,1,0,1,99]\n",
    "Output: 99"
   ]
  },
  {
   "cell_type": "code",
   "execution_count": 1,
   "id": "6efc2c5d",
   "metadata": {},
   "outputs": [],
   "source": [
    "from typing import List"
   ]
  },
  {
   "cell_type": "code",
   "execution_count": null,
   "id": "4b0b90ba",
   "metadata": {},
   "outputs": [],
   "source": [
    "def singleNumber( nums: List[int]) -> int:\n",
    "    freq = {}\n",
    "    for i in nums:\n",
    "        if i in freq :\n",
    "            freq[i] += 1\n",
    "        else:\n",
    "            freq[i] = 1\n",
    "    for num in nums :\n",
    "        if freq[num] == 1 :\n",
    "            return num\n",
    "    return None"
   ]
  },
  {
   "cell_type": "code",
   "execution_count": 3,
   "id": "b86b4573",
   "metadata": {},
   "outputs": [],
   "source": [
    "def singleNumber( nums: List[int]) -> int:    \n",
    "    freq  = {}\n",
    "    for n in nums :\n",
    "        freq[n] = freq.get(n , 0) + 1\n",
    "  \n",
    "    return min(freq , key = freq.get)"
   ]
  },
  {
   "cell_type": "code",
   "execution_count": 4,
   "id": "bab9e11f",
   "metadata": {},
   "outputs": [],
   "source": [
    "def singleNumber( nums: List[int]) -> int:\n",
    "    freq = {}\n",
    "    for i in nums :\n",
    "        if i in freq :\n",
    "            freq[i] +=1\n",
    "        else :\n",
    "            freq[i] = 1\n",
    "    return min(freq , key = freq.get)"
   ]
  },
  {
   "cell_type": "code",
   "execution_count": 5,
   "id": "4ea37245",
   "metadata": {},
   "outputs": [],
   "source": [
    "def singleNumber( nums: List[int]) -> int:\n",
    "    for i , num in enumerate(nums) :\n",
    "        if num not in nums[0:i-1 ] and num not in nums[i+1::]:\n",
    "            return num\n",
    "    "
   ]
  },
  {
   "cell_type": "code",
   "execution_count": null,
   "id": "dca4dd46",
   "metadata": {},
   "outputs": [],
   "source": []
  }
 ],
 "metadata": {
  "kernelspec": {
   "display_name": "Python 3",
   "language": "python",
   "name": "python3"
  },
  "language_info": {
   "codemirror_mode": {
    "name": "ipython",
    "version": 3
   },
   "file_extension": ".py",
   "mimetype": "text/x-python",
   "name": "python",
   "nbconvert_exporter": "python",
   "pygments_lexer": "ipython3",
   "version": "3.12.6"
  }
 },
 "nbformat": 4,
 "nbformat_minor": 5
}
