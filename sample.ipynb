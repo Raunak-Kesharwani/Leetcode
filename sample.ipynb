{
 "cells": [
  {
   "cell_type": "code",
   "execution_count": 1,
   "id": "286a1026",
   "metadata": {},
   "outputs": [],
   "source": [
    "from typing import List"
   ]
  },
  {
   "cell_type": "code",
   "execution_count": 16,
   "id": "a0ba3b88",
   "metadata": {},
   "outputs": [
    {
     "name": "stdout",
     "output_type": "stream",
     "text": [
      "[1, 2, 2, 3, 5, 6]\n"
     ]
    }
   ],
   "source": [
    "def merge(nums1: List[int], m: int, nums2: List[int], n: int):\n",
    "        \"\"\"\n",
    "        Do not return anything, modify nums1 in-place instead.\n",
    "        \"\"\"\n",
    "        i , j = 0 , 0\n",
    "        z = m + n\n",
    "        nums = []\n",
    "        nums1 = nums1[0:m]\n",
    "        while  z > 0 :\n",
    "            if  i < m and nums1[i] <= nums2[j]  :\n",
    "                nums = nums + [nums1[i]]\n",
    "                if i < m :\n",
    "                    i += 1\n",
    "                z-= 1\n",
    "            else :\n",
    "                nums = nums + [nums2[j]]\n",
    "                j +=1\n",
    "                z -= 1 \n",
    "\n",
    "        nums1 = nums \n",
    "\n",
    "        return nums1\n",
    "\n",
    "print(merge(nums1=[1,2,3,0,0,0] , m = 3 , nums2 = [2,5,6], n = 3 ))"
   ]
  },
  {
   "cell_type": "code",
   "execution_count": 11,
   "id": "c4e984e4",
   "metadata": {},
   "outputs": [
    {
     "ename": "IndexError",
     "evalue": "list index out of range",
     "output_type": "error",
     "traceback": [
      "\u001b[31m---------------------------------------------------------------------------\u001b[39m",
      "\u001b[31mIndexError\u001b[39m                                Traceback (most recent call last)",
      "\u001b[36mCell\u001b[39m\u001b[36m \u001b[39m\u001b[32mIn[11]\u001b[39m\u001b[32m, line 6\u001b[39m\n\u001b[32m      3\u001b[39m nums2 = [\u001b[32m2\u001b[39m,\u001b[32m5\u001b[39m,\u001b[32m6\u001b[39m]\n\u001b[32m      4\u001b[39m n = \u001b[32m3\u001b[39m \n\u001b[32m----> \u001b[39m\u001b[32m6\u001b[39m \u001b[38;5;28;01mif\u001b[39;00m \u001b[43mnums1\u001b[49m\u001b[43m[\u001b[49m\u001b[32;43m6\u001b[39;49m\u001b[43m]\u001b[49m > \u001b[32m0\u001b[39m :\n\u001b[32m      7\u001b[39m     \u001b[38;5;28mprint\u001b[39m(\u001b[38;5;28;01mTrue\u001b[39;00m)\n",
      "\u001b[31mIndexError\u001b[39m: list index out of range"
     ]
    }
   ],
   "source": [
    "nums1=[1,2,3,0,0,0] \n",
    "m = 3  \n",
    "nums2 = [2,5,6]\n",
    "n = 3 \n",
    "\n",
    "if nums1[6] > 0 :\n",
    "    print(True)"
   ]
  },
  {
   "cell_type": "code",
   "execution_count": null,
   "id": "4ae1acc9",
   "metadata": {},
   "outputs": [],
   "source": []
  }
 ],
 "metadata": {
  "kernelspec": {
   "display_name": "Python 3",
   "language": "python",
   "name": "python3"
  },
  "language_info": {
   "codemirror_mode": {
    "name": "ipython",
    "version": 3
   },
   "file_extension": ".py",
   "mimetype": "text/x-python",
   "name": "python",
   "nbconvert_exporter": "python",
   "pygments_lexer": "ipython3",
   "version": "3.12.6"
  }
 },
 "nbformat": 4,
 "nbformat_minor": 5
}
