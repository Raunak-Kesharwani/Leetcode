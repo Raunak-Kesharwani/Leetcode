{
 "cells": [
  {
   "cell_type": "code",
   "execution_count": 1,
   "id": "286a1026",
   "metadata": {},
   "outputs": [],
   "source": [
    "from typing import List"
   ]
  },
  {
   "cell_type": "code",
   "execution_count": 16,
   "id": "a0ba3b88",
   "metadata": {},
   "outputs": [
    {
     "name": "stdout",
     "output_type": "stream",
     "text": [
      "[1, 2, 2, 3, 5, 6]\n"
     ]
    }
   ],
   "source": [
    "def merge(nums1: List[int], m: int, nums2: List[int], n: int):\n",
    "        \"\"\"\n",
    "        Do not return anything, modify nums1 in-place instead.\n",
    "        \"\"\"\n",
    "        i , j = 0 , 0\n",
    "        z = m + n\n",
    "        nums = []\n",
    "        nums1 = nums1[0:m]\n",
    "        while  z > 0 :\n",
    "            if  i < m and nums1[i] <= nums2[j]  :\n",
    "                nums = nums + [nums1[i]]\n",
    "                if i < m :\n",
    "                    i += 1\n",
    "                z-= 1\n",
    "            else :\n",
    "                nums = nums + [nums2[j]]\n",
    "                j +=1\n",
    "                z -= 1 \n",
    "\n",
    "        nums1 = nums \n",
    "\n",
    "        return nums1\n",
    "\n",
    "print(merge(nums1=[1,2,3,0,0,0] , m = 3 , nums2 = [2,5,6], n = 3 ))"
   ]
  },
  {
   "cell_type": "code",
   "execution_count": null,
   "id": "c4e984e4",
   "metadata": {},
   "outputs": [],
   "source": [
    "nums1=[1,2,3,0,0,0] \n",
    "m = 3  \n",
    "nums2 = [2,5,6]\n",
    "n = 3 \n",
    "\n",
    "if nums1[6] > 0 :\n",
    "    print(True)"
   ]
  },
  {
   "cell_type": "code",
   "execution_count": null,
   "id": "4ae1acc9",
   "metadata": {},
   "outputs": [
    {
     "name": "stdout",
     "output_type": "stream",
     "text": [
      "1 : 0b1\n",
      "2 : 0b10\n",
      "3 : 0b11\n",
      "4 : 0b100\n",
      "5 : 0b101\n",
      "6 : 0b110\n",
      "7 : 0b111\n",
      "8 : 0b1000\n",
      "9 : 0b1001\n",
      "10 : 0b1010\n",
      "11 : 0b1011\n",
      "12 : 0b1100\n",
      "13 : 0b1101\n",
      "14 : 0b1110\n",
      "15 : 0b1111\n",
      "16 : 0b10000\n",
      "17 : 0b10001\n",
      "18 : 0b10010\n",
      "19 : 0b10011\n"
     ]
    }
   ],
   "source": [
    "for i in range(1,20):\n",
    "    print( i ,\":\" ,bin(i))"
   ]
  },
  {
   "cell_type": "code",
   "execution_count": 3,
   "id": "fd7a44f3",
   "metadata": {},
   "outputs": [
    {
     "data": {
      "text/plain": [
       "10"
      ]
     },
     "execution_count": 3,
     "metadata": {},
     "output_type": "execute_result"
    }
   ],
   "source": [
    "5 << 1"
   ]
  },
  {
   "cell_type": "code",
   "execution_count": 7,
   "id": "bd18dd6b",
   "metadata": {},
   "outputs": [
    {
     "data": {
      "text/plain": [
       "('0b100000', 32)"
      ]
     },
     "execution_count": 7,
     "metadata": {},
     "output_type": "execute_result"
    }
   ],
   "source": [
    "bin(32) , 1 << 5"
   ]
  },
  {
   "cell_type": "code",
   "execution_count": 9,
   "id": "cae8541e",
   "metadata": {},
   "outputs": [
    {
     "data": {
      "text/plain": [
       "1"
      ]
     },
     "execution_count": 9,
     "metadata": {},
     "output_type": "execute_result"
    }
   ],
   "source": [
    "32 >> 5"
   ]
  },
  {
   "cell_type": "code",
   "execution_count": 27,
   "id": "9a11291f",
   "metadata": {},
   "outputs": [],
   "source": [
    "n=[0,1,0,1,0,1,99]\n"
   ]
  },
  {
   "cell_type": "code",
   "execution_count": 37,
   "id": "93e1581b",
   "metadata": {},
   "outputs": [],
   "source": [
    "def le(l):\n",
    "    freq = {}\n",
    "    min = None\n",
    "    for i in n :\n",
    "        if i in freq :\n",
    "            freq[i] +=1\n",
    "        else :\n",
    "            freq[i] = 1\n",
    "    for i in freq :\n",
    "        min = freq[i]\n",
    "        if freq[i]< freq[i+1]:\n",
    "            min = freq[i]\n",
    "    return min\n",
    "        "
   ]
  },
  {
   "cell_type": "code",
   "execution_count": 42,
   "id": "c2fcf966",
   "metadata": {},
   "outputs": [
    {
     "name": "stdout",
     "output_type": "stream",
     "text": [
      "99\n"
     ]
    }
   ],
   "source": [
    "nums = [0,1,0,1,0,1,99]\n",
    "for i , num in enumerate(nums) :\n",
    "    if num not in nums[0:i-1 ] and num not in nums[i+1::]:\n",
    "        print(num)\n",
    "    "
   ]
  },
  {
   "cell_type": "code",
   "execution_count": 30,
   "id": "5b77f1b4",
   "metadata": {},
   "outputs": [
    {
     "name": "stdout",
     "output_type": "stream",
     "text": [
      "3\n",
      "3\n",
      "1\n"
     ]
    }
   ],
   "source": [
    "for i in freq :\n",
    "    print(freq[i])"
   ]
  },
  {
   "cell_type": "code",
   "execution_count": 10,
   "id": "82e6651f",
   "metadata": {},
   "outputs": [
    {
     "data": {
      "text/plain": [
       "[[3, 0, 1, 3, 1, 2], [1, 2, 3, 1, 2, 0], [2, 1, 1, 2, 1, 3]]"
      ]
     },
     "execution_count": 10,
     "metadata": {},
     "output_type": "execute_result"
    }
   ],
   "source": [
    "water = [[1,4,3,1,3,2],[3,2,1,3,2,4],[2,3,3,2,3,1]]\n",
    "samp = []\n",
    "up = []\n",
    "for i in water :\n",
    "    samp = []\n",
    "    for j in i :\n",
    "        samp = samp + [4-j]\n",
    "    up.append(samp)\n",
    "    \n",
    "up \n"
   ]
  },
  {
   "cell_type": "code",
   "execution_count": 2,
   "id": "fdbe2f53",
   "metadata": {},
   "outputs": [],
   "source": [
    "up = []\n",
    "samp = [0,1,2]\n",
    "up.append(samp)"
   ]
  },
  {
   "cell_type": "code",
   "execution_count": 4,
   "id": "f44a9d66",
   "metadata": {},
   "outputs": [],
   "source": [
    "up.append(samp)"
   ]
  },
  {
   "cell_type": "code",
   "execution_count": 5,
   "id": "3fed4f80",
   "metadata": {},
   "outputs": [
    {
     "data": {
      "text/plain": [
       "[[0, 1, 2], [0, 1, 2]]"
      ]
     },
     "execution_count": 5,
     "metadata": {},
     "output_type": "execute_result"
    }
   ],
   "source": [
    "up "
   ]
  },
  {
   "cell_type": "code",
   "execution_count": null,
   "id": "f65b1c59",
   "metadata": {},
   "outputs": [],
   "source": []
  }
 ],
 "metadata": {
  "kernelspec": {
   "display_name": "Python 3",
   "language": "python",
   "name": "python3"
  },
  "language_info": {
   "codemirror_mode": {
    "name": "ipython",
    "version": 3
   },
   "file_extension": ".py",
   "mimetype": "text/x-python",
   "name": "python",
   "nbconvert_exporter": "python",
   "pygments_lexer": "ipython3",
   "version": "3.12.6"
  }
 },
 "nbformat": 4,
 "nbformat_minor": 5
}
