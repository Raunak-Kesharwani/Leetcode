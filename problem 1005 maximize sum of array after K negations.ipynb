{
 "cells": [
  {
   "cell_type": "markdown",
   "id": "7cff1f5a",
   "metadata": {},
   "source": [
    "# 1005. Maximize Sum Of Array After K Negations\n",
    "\n",
    "Given an integer array nums and an integer k, modify the array in the following way:\n",
    "\n",
    "choose an index i and replace nums[i] with -nums[i].\n",
    "You should apply this process exactly k times. You may choose the same index i multiple times.\n",
    "\n",
    "Return the largest possible sum of the array after modifying it in this way.\n",
    "\n",
    " \n",
    "\n",
    "Example 1:\n",
    "\n",
    "Input: nums = [4,2,3], k = 1\n",
    "Output: 5\n",
    "Explanation: Choose index 1 and nums becomes [4,-2,3].\n",
    "Example 2:\n",
    "\n",
    "Input: nums = [3,-1,0,2], k = 3\n",
    "Output: 6\n",
    "Explanation: Choose indices (1, 2, 2) and nums becomes [3,1,0,2].\n",
    "Example 3:\n",
    "\n",
    "Input: nums = [2,-3,-1,5,-4], k = 2\n",
    "Output: 13\n",
    "Explanation: Choose indices (1, 4) and nums becomes [2,3,-1,5,4].\n"
   ]
  },
  {
   "cell_type": "code",
   "execution_count": 1,
   "id": "fd181e52",
   "metadata": {},
   "outputs": [],
   "source": [
    "from typing import List\n",
    "class Solution:\n",
    "    def largestSumAfterKNegations(self, nums: List[int], k: int) -> int:\n",
    "\n",
    "        nums.sort()\n",
    "        \n",
    "        # Step 2: Flip as many negative numbers as possible\n",
    "        for i in range(len(nums)):\n",
    "            if nums[i] < 0 and k > 0:\n",
    "                nums[i] = -nums[i]\n",
    "                k -= 1\n",
    "        \n",
    "        # Step 3: If k is still odd, flip the smallest absolute value\n",
    "        if k % 2 == 1:\n",
    "            nums.sort()  # smallest element will be nums[0]\n",
    "            nums[0] = -nums[0]\n",
    "        \n",
    "        # Step 4: Return sum\n",
    "        return sum(nums)"
   ]
  },
  {
   "cell_type": "code",
   "execution_count": 2,
   "id": "d13b44a2",
   "metadata": {},
   "outputs": [],
   "source": [
    "class Solution:\n",
    "    def largestSumAfterKNegations(self, nums: List[int], k: int) -> int:\n",
    "        sum = 0\n",
    "        min_= 0 \n",
    "        index = None\n",
    "        for i in range(k):\n",
    "            min_ = min(nums)\n",
    "            index = nums.index(min_)\n",
    "            nums[index] = -min_\n",
    "        \n",
    "        for num in nums :\n",
    "            sum += num\n",
    "\n",
    "        return sum"
   ]
  },
  {
   "cell_type": "code",
   "execution_count": null,
   "id": "3aab56cf",
   "metadata": {},
   "outputs": [],
   "source": []
  }
 ],
 "metadata": {
  "kernelspec": {
   "display_name": "Python 3",
   "language": "python",
   "name": "python3"
  },
  "language_info": {
   "codemirror_mode": {
    "name": "ipython",
    "version": 3
   },
   "file_extension": ".py",
   "mimetype": "text/x-python",
   "name": "python",
   "nbconvert_exporter": "python",
   "pygments_lexer": "ipython3",
   "version": "3.12.6"
  }
 },
 "nbformat": 4,
 "nbformat_minor": 5
}
