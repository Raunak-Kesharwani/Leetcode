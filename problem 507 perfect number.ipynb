{
 "cells": [
  {
   "cell_type": "markdown",
   "id": "215232df",
   "metadata": {},
   "source": [
    "# 507. Perfect Number\n",
    "\n",
    "A perfect number is a positive integer that is equal to the sum of its positive divisors, excluding the number itself. A divisor of an integer x is an integer that can divide x evenly.\n",
    "\n",
    "Given an integer n, return true if n is a perfect number, otherwise return false.\n",
    "\n",
    " \n",
    "\n",
    "Example 1:\n",
    "\n",
    "Input: num = 28\n",
    "Output: true\n",
    "Explanation: 28 = 1 + 2 + 4 + 7 + 14\n",
    "1, 2, 4, 7, and 14 are all divisors of 28.\n",
    "Example 2:\n",
    "\n",
    "Input: num = 7\n",
    "Output: false"
   ]
  },
  {
   "cell_type": "markdown",
   "id": "93d59636",
   "metadata": {},
   "source": [
    "class Solution:\n",
    "    def checkPerfectNumber(self, num: int) -> bool:\n",
    "        if num == 1 :\n",
    "            return False\n",
    "        s_div = 0\n",
    "        for i in range(1, int(num**0.5)+1):\n",
    "            if num % i == 0 :\n",
    "                s_div +=i\n",
    "                if i != 1 and i != num//i  :\n",
    "                    s_div += num//i\n",
    "        return num == s_div"
   ]
  },
  {
   "cell_type": "code",
   "execution_count": 1,
   "id": "c21e594c",
   "metadata": {},
   "outputs": [],
   "source": [
    "class Solution:\n",
    "    def checkPerfectNumber(self, num: int) -> bool:\n",
    "        if num == 1 :\n",
    "            return False\n",
    "        s_div = 0\n",
    "        for i in range(1, int(num**0.5)+1):\n",
    "            if num % i == 0 :\n",
    "                s_div +=i\n",
    "                if i != 1 and i != num//i  :\n",
    "                    s_div += num//i\n",
    "        return num == s_div"
   ]
  },
  {
   "cell_type": "code",
   "execution_count": null,
   "id": "a62cac16",
   "metadata": {},
   "outputs": [],
   "source": []
  },
  {
   "cell_type": "code",
   "execution_count": null,
   "id": "0bc08db7",
   "metadata": {},
   "outputs": [],
   "source": []
  },
  {
   "cell_type": "code",
   "execution_count": null,
   "id": "0d880428",
   "metadata": {},
   "outputs": [],
   "source": []
  },
  {
   "cell_type": "code",
   "execution_count": null,
   "id": "2d4efb35",
   "metadata": {},
   "outputs": [],
   "source": []
  }
 ],
 "metadata": {
  "kernelspec": {
   "display_name": "Python 3",
   "language": "python",
   "name": "python3"
  },
  "language_info": {
   "codemirror_mode": {
    "name": "ipython",
    "version": 3
   },
   "file_extension": ".py",
   "mimetype": "text/x-python",
   "name": "python",
   "nbconvert_exporter": "python",
   "pygments_lexer": "ipython3",
   "version": "3.12.6"
  }
 },
 "nbformat": 4,
 "nbformat_minor": 5
}
